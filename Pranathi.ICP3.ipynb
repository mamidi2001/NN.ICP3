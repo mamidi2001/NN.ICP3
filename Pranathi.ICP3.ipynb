{
 "cells": [
  {
   "cell_type": "code",
   "execution_count": 1,
   "id": "3e688efe",
   "metadata": {},
   "outputs": [],
   "source": [
    "class Employee:\n",
    "  no_of_employees = 0\n",
    "  name = ''\n",
    "  family = ''\n",
    "  salary = ''\n",
    "  department = ''\n",
    "  employees = []\n",
    "  def __init__(self, name, family, salary, department):\n",
    "    self.name = name\n",
    "    self.family = family\n",
    "    self.salary = salary\n",
    "    self.department = department\n",
    "    Employee.no_of_employees += 1\n",
    "    Employee.employees.append([name, family, salary, department])\n",
    "  def avg_salary():\n",
    "    total_sal = sum([employee[2] for employee in Employee.employees])\n",
    "    return round(total_sal/Employee.no_of_employees,2)\n",
    "\n",
    "class FulltimeEmployee(Employee):\n",
    "  pass\n",
    "\n",
    "#Employee('pranathi', 'reddy', 50000, 'Data')\n",
    "#Employee('pranay', 'reddy', 75000, 'Development')\n",
    "#FulltimeEmployee('hemanth', 'reddy', 36000, 'Testing')\n",
    "# print('Average salary of employees:',Employee.avg_salary())"
   ]
  },
  {
   "cell_type": "code",
   "execution_count": 20,
   "id": "31552900",
   "metadata": {},
   "outputs": [
    {
     "name": "stdout",
     "output_type": "stream",
     "text": [
      "Average salary of employees: 53666.67\n"
     ]
    }
   ],
   "source": [
    "Employee('Pranathi', 'Reddy', 50000, 'Data')\n",
    "Employee('Pranay', 'reddy', 75000, 'Development')\n",
    "FulltimeEmployee('hemanth', 'reddy', 36000, 'Testing')\n",
    "print('Average salary of employees:',Employee.avg_salary())"
   ]
  },
  {
   "cell_type": "code",
   "execution_count": 2,
   "id": "f619de90",
   "metadata": {},
   "outputs": [
    {
     "name": "stdout",
     "output_type": "stream",
     "text": [
      "Original array:\n",
      " [[ 1.9476406  11.09428563 14.36061399 12.07998421  4.86979542]\n",
      " [ 9.11279533 17.89285271  3.15963173  6.13678219 15.92856326]\n",
      " [15.5816091  18.93579979 15.75619821  2.1343613  11.26368966]\n",
      " [19.00217855 18.75294408  2.13273741  6.05063951  2.91358831]]\n",
      "\n",
      "\n",
      "Array after replacing max with 0:\n",
      " [[ 1.9476406  11.09428563  0.         12.07998421  4.86979542]\n",
      " [ 9.11279533  0.          3.15963173  6.13678219 15.92856326]\n",
      " [15.5816091   0.         15.75619821  2.1343613  11.26368966]\n",
      " [ 0.         18.75294408  2.13273741  6.05063951  2.91358831]]\n"
     ]
    }
   ],
   "source": [
    "import numpy as np\n",
    "vector = np.random.uniform(1,20,20)\n",
    "arr = vector.reshape(4,5)\n",
    "maxn = np.amax(arr, axis=1)\n",
    "print('Original array:\\n',arr)\n",
    "print('\\n\\nArray after replacing max with 0:\\n',np.where(np.isin(arr,maxn), 0, arr))"
   ]
  },
  {
   "cell_type": "code",
   "execution_count": null,
   "id": "94806b8e",
   "metadata": {},
   "outputs": [],
   "source": []
  }
 ],
 "metadata": {
  "kernelspec": {
   "display_name": "Python 3 (ipykernel)",
   "language": "python",
   "name": "python3"
  },
  "language_info": {
   "codemirror_mode": {
    "name": "ipython",
    "version": 3
   },
   "file_extension": ".py",
   "mimetype": "text/x-python",
   "name": "python",
   "nbconvert_exporter": "python",
   "pygments_lexer": "ipython3",
   "version": "3.9.13"
  }
 },
 "nbformat": 4,
 "nbformat_minor": 5
}
